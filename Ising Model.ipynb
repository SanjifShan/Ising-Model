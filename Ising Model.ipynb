{
 "cells": [
  {
   "cell_type": "code",
   "execution_count": null,
   "metadata": {},
   "outputs": [],
   "source": [
    "import numpy as np\n",
    "from numpy import random as rand\n",
    "\n",
    "import matplotlib\n",
    "from matplotlib import pyplot as pt\n",
    "%matplotlib inline"
   ]
  },
  {
   "cell_type": "code",
   "execution_count": null,
   "metadata": {},
   "outputs": [],
   "source": [
    "N = 15\n",
    "\n",
    "def init_lattice():\n",
    "    lattice = np.random.choice([-1,1], size = (N,N))\n",
    "    return lattice\n",
    "\n",
    "\n",
    "x = init_lattice()\n",
    "x"
   ]
  },
  {
   "cell_type": "code",
   "execution_count": null,
   "metadata": {},
   "outputs": [],
   "source": [
    "def nearest_neighbours(lattice, x, y):\n",
    "    \n",
    "    # assume the lattice is isotropic, with matching boundary conditions\n",
    "    # the nearest neighbpurs do not include the diagonals\n",
    "    \n",
    "    neighbour_spin = []\n",
    "    \n",
    "    if  0 <= (y-1) < N : \n",
    "        left   = (x, (y-1))\n",
    "        neighbour_spin.append(lattice[left[0], left[1]])\n",
    "                                   \n",
    "    if 0 <= (y+1) < N : \n",
    "        right  = (x, (y+1))\n",
    "        neighbour_spin.append(lattice[right[0], right[1]])\n",
    "        \n",
    "    if 0 <= (x-1) < N :\n",
    "        top    = ((x-1), y)\n",
    "        neighbour_spin.append(lattice[top[0], top[1]])\n",
    "    \n",
    "    if 0<= (x+1) < N :\n",
    "        bottom = ((x+1), y)\n",
    "        neighbour_spin.append(lattice[bottom[0], bottom[1]])\n",
    "    \n",
    "    # create an array containing spins of the nearest neighbours \n",
    "    # order turns out to not be important, only the total sum\n",
    "    \n",
    "    return neighbour_spin\n",
    "\n",
    "nearest_neighbours(x,9,9)"
   ]
  },
  {
   "cell_type": "code",
   "execution_count": null,
   "metadata": {},
   "outputs": [],
   "source": [
    "def sum_spins(lattice, x, y):\n",
    "\n",
    "    sum_spins = sum(nearest_neighbours(lattice,x,y))\n",
    "    return sum_spins\n",
    "    \n",
    "sum_spins(x,2,3)"
   ]
  },
  {
   "cell_type": "code",
   "execution_count": null,
   "metadata": {},
   "outputs": [],
   "source": [
    "def del_energy_local(lattice, x, y):\n",
    "    # we note the change in energy of the lattice if a single local spin is reverse\n",
    "    # stablility is proportional to the number of nearest neighbours (markov chain assumption) with the same spin \n",
    "    # stability = lower energy\n",
    "    # this is not the actual change in energy but it id proportional to it and thus this model is useful\n",
    "    \n",
    "    dE = -1 * lattice[x,y] * sum_spins(lattice, x, y)\n",
    "    return dE\n",
    "\n",
    "del_energy_local(x,0,4)"
   ]
  },
  {
   "cell_type": "code",
   "execution_count": null,
   "metadata": {},
   "outputs": [],
   "source": [
    "def del_energy_total(lattice):\n",
    "    \n",
    "    # work through all nodes to get the total change\n",
    "    DE = 0\n",
    "    \n",
    "    for i in range(0, N):\n",
    "        for j in range(0,N):\n",
    "            DE += del_energy_local(lattice, i, j)\n",
    "            \n",
    "    return DE\n",
    "\n",
    "y = init_lattice()\n",
    "del_energy_total(x)"
   ]
  },
  {
   "cell_type": "code",
   "execution_count": null,
   "metadata": {},
   "outputs": [],
   "source": [
    "import random\n",
    "\n",
    "def monte_carlo(lattice,temp):\n",
    "        \n",
    "        #random coordinates\n",
    "        x = random.randint(0,N-1)\n",
    "        y = random.randint(0,N-1)\n",
    "        \n",
    "        cost = del_energy_local(lattice,x,y)\n",
    "        \n",
    "        \n",
    "        \n",
    "        # clearly reduces energy\n",
    "        if cost < 0:\n",
    "            \n",
    "            lattice[x,y] = -1 * lattice[x,y]\n",
    "        # does not reduce energy, compare to uniform distribution\n",
    "        \n",
    "        elif np.exp((-1.0 * (cost - 1.8) )/ temp) < rand.random():\n",
    "            \n",
    "             lattice[x,y] = -1 * lattice[x,y]\n",
    "                \n",
    "                \n",
    "        return lattice "
   ]
  },
  {
   "cell_type": "code",
   "execution_count": null,
   "metadata": {},
   "outputs": [],
   "source": [
    "temp_ticks = 40      \n",
    "iterations = 500\n",
    "eq_iterations = 500\n",
    "\n",
    "T = np.linspace(1.0,3.5,temp_ticks)\n",
    "E = np.zeros(temp_ticks)\n",
    "M = np.zeros(temp_ticks)\n",
    "\n",
    "k = 1.0/(iterations * N * N)"
   ]
  },
  {
   "cell_type": "code",
   "execution_count": null,
   "metadata": {},
   "outputs": [],
   "source": [
    "def metropolis_alg(lattice):\n",
    "    \n",
    "    for i in range(0,temp_ticks):\n",
    "        \n",
    "        temp = T[0] + ((T[temp_ticks-1]-T[0])*i)/temp_ticks    \n",
    "        \n",
    "        a = monte_carlo(lattice,temp)\n",
    "        \n",
    "        for j in range(0,iterations):\n",
    "        \n",
    "            a = monte_carlo(a,temp) \n",
    "           \n",
    "        if (i == temp_ticks/2) and (j % 256 == 0):\n",
    "            pt.imshow(a, cmap='hot', interpolation='nearest')\n",
    "            pt.show()\n",
    "    \n",
    "    E[i] = del_energy_total(a)\n",
    "        \n",
    "    return E   \n"
   ]
  },
  {
   "cell_type": "code",
   "execution_count": null,
   "metadata": {},
   "outputs": [],
   "source": [
    "def average_equilibriate(lattice):\n",
    "    \n",
    "    for i in range(0,temp_ticks):\n",
    "        \n",
    "        temp = T[0] + ((T[temp_ticks-1]-T[0])*i)/temp_ticks\n",
    "        E_1 = 0\n",
    "        a = lattice\n",
    "        E_0 = del_energy_total(a)\n",
    "        \n",
    "        for j in range(eq_iterations):            #equilibriate\n",
    "            a = monte_carlo(a, temp)\n",
    "        \n",
    "        #for k in range(iterations):\n",
    "        #   a = monte_carlo(a, temp)           #average energy\n",
    "            energy = del_energy_total(a)\n",
    "        \n",
    "            E_1 = E_1 + energy\n",
    "        \n",
    "        E[i] = (E_1/ (500)) - E_0\n",
    "    \n",
    "    return E"
   ]
  },
  {
   "cell_type": "code",
   "execution_count": null,
   "metadata": {},
   "outputs": [],
   "source": [
    "def monte_carlo_stepwise(lattice,temp):\n",
    "        \n",
    "        #random coordinates\n",
    "    for i in range(0,N):\n",
    "        for j in range(0,N):\n",
    "        \n",
    "            cost = del_energy_local(lattice,i,j)\n",
    "        \n",
    "        \n",
    "        \n",
    "            # clearly reduces energy\n",
    "            if cost < 0:\n",
    "            \n",
    "                lattice[i,j] = -1 * lattice[i,j]\n",
    "            # does not reduce energy, compare to uniform distribution\n",
    "        \n",
    "            elif np.exp((-1.0 * (cost - 1.8))/ temp) < rand.random():\n",
    "            \n",
    "                lattice[i,j] = -1 * lattice[i,j]\n",
    "                \n",
    "                \n",
    "    return lattice "
   ]
  },
  {
   "cell_type": "code",
   "execution_count": null,
   "metadata": {},
   "outputs": [],
   "source": [
    "def average_stepwise(lattice):\n",
    "    \n",
    "    for i in range(0,temp_ticks):\n",
    "        \n",
    "        temp = T[0] + ((T[temp_ticks-1]-T[0])*i)/temp_ticks\n",
    "        E_0 = del_energy_total(lattice)\n",
    "        \n",
    "       # a = lattice\n",
    "        #for j in range(15):            \n",
    "        a = monte_carlo_stepwise(lattice, temp)\n",
    "                #for k in range(iterations):\n",
    "        #   a = monte_carlo(a, temp)           \n",
    "        energy = del_energy_total(a)\n",
    "        \n",
    "            \n",
    "        \n",
    "        E[i] = energy - E_0\n",
    "    \n",
    "    return E"
   ]
  },
  {
   "cell_type": "code",
   "execution_count": null,
   "metadata": {},
   "outputs": [],
   "source": []
  }
 ],
 "metadata": {
  "kernelspec": {
   "display_name": "Python 3",
   "language": "python",
   "name": "python3"
  },
  "language_info": {
   "codemirror_mode": {
    "name": "ipython",
    "version": 3
   },
   "file_extension": ".py",
   "mimetype": "text/x-python",
   "name": "python",
   "nbconvert_exporter": "python",
   "pygments_lexer": "ipython3",
   "version": "3.7.1"
  }
 },
 "nbformat": 4,
 "nbformat_minor": 4
}
